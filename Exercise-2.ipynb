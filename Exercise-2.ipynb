{
 "cells": [
  {
   "cell_type": "markdown",
   "metadata": {},
   "source": [
    "# Exercise 2 - Editing and creating notebooks and practice using Git\n",
    "\n",
    "### Overview\n",
    "\n",
    "The exercise for this week is meant to help you better understand data types and lists in Python, and practice saving changes to your files using Git and GitHub.\n",
    "Below you have a series of \"problems\" that you will be asked to solve by either modifying a starter code in a Jupyter notebook, or creating your own code in the notebook.\n",
    "After making your changes, you will need to push them to GitHub using Git.\n",
    "\n",
    "### What to do\n",
    "\n",
    "Your answers for each problem should go between the corresponding sub-sections titled \"Problem X answer section starts here\" and \"Problem X answer section ends here\".\n",
    "This exercise is worth **20 points** and due by the start of class on 19.9.\n",
    "\n",
    "### Where to find help\n",
    "\n",
    "If you're having trouble, please remember you can\n",
    "\n",
    "- Come to the work sessions on Thursday and/or Friday for help from the course assistants\n",
    "- Find [hints about this week's exercise](https://geo-python.github.io/2018/lessons/L2/exercise-2.html) on the course webpage\n",
    "- Post questions to Slack"
   ]
  },
  {
   "cell_type": "markdown",
   "metadata": {},
   "source": [
    "## Problem 1 - Making changes to a file using Git (*7 points*)\n",
    "\n",
    "Your first task for this week is to make some modifications to the broken Python code in the cells below.\n",
    "The code should allow users to find the age of an [FMI observation station](http://en.ilmatieteenlaitos.fi/observation-stations) by setting the `selectedStation` variable.\n",
    "Don't worry about the case of a user entering a station name that is not on the list.\n",
    "\n",
    "### Grading for Problem 1\n",
    "\n",
    "Your score for this problem will be based on\n",
    "\n",
    "- Fixing **3 major code problems** to get the code working as expected\n",
    "- Committing each change separately to GitHub using Git\n",
    "- Listing the changes you needed to make to get the code working in plain English by modifying the existing text or adding a Markdown cell above each change"
   ]
  },
  {
   "cell_type": "markdown",
   "metadata": {},
   "source": [
    "### Problem 1 answer section\n",
    "\n",
    "Make your code modifications and addition of cells below."
   ]
  },
  {
   "cell_type": "markdown",
   "metadata": {},
   "source": [
    "Here we create and fill lists of station names and starting years for observation.\n",
    "**NOTE**: Long lines can be split into multiple lines using the \"\\\" character. Split lines can be indented freely."
   ]
  },
  {
   "cell_type": "code",
   "execution_count": 2,
   "metadata": {},
   "outputs": [],
   "source": [
    "stationNames = ['Harmaja', 'Kaisaniemi', 'Kaivopuisto', 'Kumpula', 'lighthouse', \\\n",
    "                'Malmi airfield', 'Suomenlinna aaltopoiju', 'Vuosaari harbour']"
   ]
  },
  {
   "cell_type": "code",
   "execution_count": 3,
   "metadata": {},
   "outputs": [],
   "source": [
    "stationStartYears = [1989, 1844, 1904, 2005, 2003, 1937, 2016, 2012]"
   ]
  },
  {
   "cell_type": "markdown",
   "metadata": {},
   "source": [
    "Below we can define the selected station."
   ]
  },
  {
   "cell_type": "code",
   "execution_count": 4,
   "metadata": {},
   "outputs": [],
   "source": [
    "selectedStation = 1"
   ]
  },
  {
   "cell_type": "markdown",
   "metadata": {},
   "source": [
    "Next we find the location of the selected station in the list of station names."
   ]
  },
  {
   "cell_type": "code",
   "execution_count": 5,
   "metadata": {},
   "outputs": [
    {
     "ename": "ValueError",
     "evalue": "1 is not in list",
     "output_type": "error",
     "traceback": [
      "\u001b[0;31m---------------------------------------------------------------------------\u001b[0m",
      "\u001b[0;31mValueError\u001b[0m                                Traceback (most recent call last)",
      "\u001b[0;32m<ipython-input-5-5a228df9dfcd>\u001b[0m in \u001b[0;36m<module>\u001b[0;34m()\u001b[0m\n\u001b[0;32m----> 1\u001b[0;31m \u001b[0mstationIndex\u001b[0m \u001b[0;34m=\u001b[0m \u001b[0mstationNames\u001b[0m\u001b[0;34m.\u001b[0m\u001b[0mindex\u001b[0m\u001b[0;34m(\u001b[0m\u001b[0mselectedStation\u001b[0m\u001b[0;34m)\u001b[0m\u001b[0;34m\u001b[0m\u001b[0m\n\u001b[0m",
      "\u001b[0;31mValueError\u001b[0m: 1 is not in list"
     ]
    }
   ],
   "source": [
    "stationIndex = stationNames.index(selectedStation)"
   ]
  },
  {
   "cell_type": "markdown",
   "metadata": {},
   "source": [
    "Now we can calculate the years the station has been operational."
   ]
  },
  {
   "cell_type": "code",
   "execution_count": 6,
   "metadata": {},
   "outputs": [],
   "source": [
    "stationYears = 2018 - stationStartYears[selectedStation]"
   ]
  },
  {
   "cell_type": "markdown",
   "metadata": {},
   "source": [
    "Finally, we print the station name and number of years of operation to the screen."
   ]
  },
  {
   "cell_type": "code",
   "execution_count": 7,
   "metadata": {},
   "outputs": [
    {
     "ename": "SyntaxError",
     "evalue": "EOL while scanning string literal (<ipython-input-7-9a45e61353f2>, line 1)",
     "output_type": "error",
     "traceback": [
      "\u001b[0;36m  File \u001b[0;32m\"<ipython-input-7-9a45e61353f2>\"\u001b[0;36m, line \u001b[0;32m1\u001b[0m\n\u001b[0;31m    print(\"The Helsinki\", selectedStation, \"station has been operational for\",       stationYears, \"years.)\u001b[0m\n\u001b[0m                                                                                                           ^\u001b[0m\n\u001b[0;31mSyntaxError\u001b[0m\u001b[0;31m:\u001b[0m EOL while scanning string literal\n"
     ]
    }
   ],
   "source": [
    "print(\"The Helsinki\", selectedStation, \"station has been operational for\", \\\n",
    "      stationYears, \"years.)"
   ]
  },
  {
   "cell_type": "markdown",
   "metadata": {},
   "source": [
    "## Problem 2 - Creating and uploading a script to GitHub (*9 points*)\n",
    "\n",
    "The table below presents [monthly average temperatures recorded at the Helsinki Malmi airport](https://www.timeanddate.com/weather/finland/helsinki/climate).\n",
    "\n",
    "| Month     | Temperature [°C] |\n",
    "| --------- | :--------------: |\n",
    "| January   | -3.5             |\n",
    "| February  | -4.5             |\n",
    "| March     | -1.0             |\n",
    "| April     | 4.0              |\n",
    "| May       | 10.0             |\n",
    "| June      | 15.0             |\n",
    "| July      | 18.0             |\n",
    "| August    | 16.0             |\n",
    "| September | 11.5             |\n",
    "| October   | 6.0              |\n",
    "| November  | 2.0              |\n",
    "| December  | -1.5             |\n",
    "\n",
    "Create a script called `average_temps.py` that allows users to select a month and have the monthly average temperature printed to the screen.\n",
    "For example, if the user sets month to \"March\", the script will display\n",
    "\n",
    "```\n",
    "The average temperature in Helsinki in March is -1.0\n",
    "```\n",
    "**Your score on this problem will be based on**\n",
    "\n",
    "- Having your script display the monthly average temperature in a selected month, set by defining the variable `selectedMonth` near the top of the script.\n",
    "- Having it work for all 12 months in the year.\n",
    "- Using the basic script format described in [this week's lesson](https://geo-python.github.io/2017/lessons/L2/writing-scripts.html).\n",
    "- Including comments that explain what most lines in the code do\n",
    "- Uploading your script to your GitHub repository for this week's lesson with the name `average_temps.py`.\n",
    "- Your answers to the three questions about the challenges you faced in writing your own script (see [Problem 3](#problem-3) below).\n",
    "\n",
    "## Problem 3 - Answering questions using Markdown (*4 points*)\n",
    "The last task in this week's exercise is to make some changes to this `README.md` file to provide answers to the following questions.\n",
    "\n",
    "1. Under the heading for Problem 1 (`## Problem 1`), list the changes you needed to make to the code (in regular English, not Python code) to get it working.\n",
    "You are welcome to use a numbered list if you like.\n",
    "You can read about how to format numbered lists on the GitHub page about [GitHub-flavored Markdown](https://help.github.com/articles/basic-writing-and-formatting-syntax/).\n",
    "2. Add a heading for Problem 2 and beneath it list some of the challenges you faced in creating your own Python script from scratch.\n",
    "What parts of the code were most difficult to create?\n",
    "What things were you able to take from other resources in this week's lesson?\n",
    "Any other comments about the difficulties in creating your own script?\n",
    "3. Add a heading for Problem 3 and beneath it give your comments about this week's lesson.\n",
    "\n",
    "    - What did you like?\n",
    "    - What did you dislike?\n",
    "    - What would you change?\n",
    "4. Lastly, just for fun, add an image of an animal that you like along with a short caption giving its name and anything special you might like to add.\n",
    "You can add an image by linking to a website, or by uploading an image to your GitHub repository and linking to that.\n",
    "Since we've spoken briefly about software licencing, we suggest that you search for images in a repository that includes licencing information such as [Wikimedia Commons](https://commons.wikimedia.org/wiki/Main_Page) or [Pixabay](https://pixabay.com/).\n",
    "You are, of course, also welcome to upload your own animal images.\n",
    "You can add it under the Problem 3 heading in the answers.\n",
    "\n",
    "**Your score on this problem will be based on**\n",
    "\n",
    "- Your answers to the three questions in part 3 of this problem\n",
    "- Posting an image of a favorite animal using Markdown\n",
    "\n",
    "# Answers\n",
    "## Problem 1\n",
    "This is some text.\n",
    "You can use *italics* or **bold** text easily.\n",
    "You may want to read a bit more about [formatting text in Github-flavored Markdown](https://help.github.com/articles/basic-writing-and-formatting-syntax/).\n",
    "You can see an example of how to display an image with a caption below.\n",
    "\n",
    "![Text shown if image does not load](Images/green-tree-python.jpg)<br/>\n",
    "*Figure 1: A green tree python*\n",
    "\n",
    "Here is a bit more text beneath the image. Have fun!\n"
   ]
  },
  {
   "cell_type": "code",
   "execution_count": null,
   "metadata": {},
   "outputs": [],
   "source": []
  }
 ],
 "metadata": {
  "kernelspec": {
   "display_name": "Python 3",
   "language": "python",
   "name": "python3"
  },
  "language_info": {
   "codemirror_mode": {
    "name": "ipython",
    "version": 3
   },
   "file_extension": ".py",
   "mimetype": "text/x-python",
   "name": "python",
   "nbconvert_exporter": "python",
   "pygments_lexer": "ipython3",
   "version": "3.6.4"
  }
 },
 "nbformat": 4,
 "nbformat_minor": 2
}
