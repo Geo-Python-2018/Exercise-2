{
 "cells": [
  {
   "cell_type": "markdown",
   "metadata": {},
   "source": [
    "# Exercise 2 - Editing and creating notebooks and practice using Git\n",
    "\n",
    "### Overview\n",
    "\n",
    "The exercise for this week is meant to help you better understand data types and lists in Python, and practice saving changes to your files using Git and GitHub.\n",
    "Below you have a series of \"problems\" that you will be asked to solve by either modifying a starter code in a Jupyter notebook, or creating your own code in the notebook.\n",
    "After making your changes, you will need to push them to GitHub using Git.\n",
    "\n",
    "### What to do\n",
    "\n",
    "Your answers for each problem should go below the corresponding sub-sections titled \"Problem X answer section\".\n",
    "This exercise is worth **20 points** and due by the start of class on 19.9.\n",
    "\n",
    "### Where to find help\n",
    "\n",
    "If you're having trouble, please remember you can\n",
    "\n",
    "- Come to the work sessions on Thursday and/or Friday for help from the course assistants\n",
    "- Find [hints about this week's exercise](https://geo-python.github.io/2018/lessons/L2/exercise-2.html) on the course webpage\n",
    "- Post questions to Slack"
   ]
  },
  {
   "cell_type": "markdown",
   "metadata": {},
   "source": [
    "## Problem 0 - Cloning Exercise repository to JupyterLab (*0 points*)\n",
    "\n",
    "Before starting to work with the actual problems for this week, you should start a new JupyterLab instance and clone **your own** Exercise 2 repository (e.g. `htenkanen-exercise-2`) into the instance using **Git** as we saw in the [lecture this week](https://geo-python.github.io/2018/lessons/L2/git-basics.html). "
   ]
  },
  {
   "cell_type": "markdown",
   "metadata": {},
   "source": [
    "## Problem 1 - Making changes to a file using Git (*7 points*)\n",
    "\n",
    "Your first task for this week is to make some modifications to the Python code in the cells below to fix the errors it gives once you run the codes.\n",
    "The code should allow users to find the age of an [FMI observation station](http://en.ilmatieteenlaitos.fi/observation-stations) by setting the `selectedStation` variable.\n",
    "Don't worry about the case of a user entering a station name that is not on the list.\n",
    "\n",
    "### Grading for Problem 1\n",
    "\n",
    "Your score for this problem will be based on\n",
    "\n",
    "- Fixing **3 major code problems** to get the code working as expected\n",
    "- Committing each change separately to GitHub using Git\n",
    "- Listing the changes you needed to make to get the code working in plain English by modifying the existing text or adding a Markdown cell above each change"
   ]
  },
  {
   "cell_type": "markdown",
   "metadata": {},
   "source": [
    "### Problem 1 answer section\n",
    "\n",
    "Make your code modifications and addition of cells below.\n",
    "Note your code changes with text in a Markdown cell above the changes that starts with the text \"**CODE CHANGE**:\"."
   ]
  },
  {
   "cell_type": "markdown",
   "metadata": {},
   "source": [
    "Here we create and fill lists of station names and starting years for observation.\n",
    "**NOTE**: Long lines can be split into multiple lines using the \"\\\" character. Split lines can be indented freely."
   ]
  },
  {
   "cell_type": "code",
   "execution_count": null,
   "metadata": {},
   "outputs": [],
   "source": [
    "# DO NOT EDIT THIS CELL\n",
    "stationNames = ['Harmaja', 'Kaisaniemi', 'Kaivopuisto', 'Kumpula', 'lighthouse', \\\n",
    "                'Malmi airfield', 'Suomenlinna aaltopoiju', 'Vuosaari harbour']"
   ]
  },
  {
   "cell_type": "code",
   "execution_count": null,
   "metadata": {},
   "outputs": [],
   "source": [
    "# DO NOT EDIT THIS CELL\n",
    "stationStartYears = [1989, 1844, 1904, 2005, 2003, 1937, 2016, 2012]"
   ]
  },
  {
   "cell_type": "markdown",
   "metadata": {},
   "source": [
    "Below we can define the selected station."
   ]
  },
  {
   "cell_type": "code",
   "execution_count": null,
   "metadata": {},
   "outputs": [],
   "source": [
    "selectedStation = 1"
   ]
  },
  {
   "cell_type": "markdown",
   "metadata": {},
   "source": [
    "Next we find the location of the selected station in the list of station names."
   ]
  },
  {
   "cell_type": "code",
   "execution_count": null,
   "metadata": {},
   "outputs": [],
   "source": [
    "# DO NOT EDIT THIS CELL\n",
    "stationIndex = stationNames.index(selectedStation)"
   ]
  },
  {
   "cell_type": "markdown",
   "metadata": {},
   "source": [
    "Now we can calculate the years the station has been operational."
   ]
  },
  {
   "cell_type": "code",
   "execution_count": null,
   "metadata": {},
   "outputs": [],
   "source": [
    "stationYears = 2018 - stationStartYears[selectedStation]"
   ]
  },
  {
   "cell_type": "markdown",
   "metadata": {},
   "source": [
    "Finally, we print the station name and number of years of operation to the screen."
   ]
  },
  {
   "cell_type": "code",
   "execution_count": null,
   "metadata": {},
   "outputs": [],
   "source": [
    "print(\"The Helsinki\", selectedStation, \"station has been operational for\", \\\n",
    "      stationYears, \"years.)"
   ]
  },
  {
   "cell_type": "markdown",
   "metadata": {},
   "source": [
    "## Problem 2 - Creating a new Jupyter notebook and pushing it to GitHub (*9 points*)\n",
    "\n",
    "The table below presents [monthly average temperatures recorded at the Helsinki Malmi airport](https://www.timeanddate.com/weather/finland/helsinki/climate).\n",
    "\n",
    "| Month     | Temperature [°C] |\n",
    "| --------- | :--------------: |\n",
    "| January   | -3.5             |\n",
    "| February  | -4.5             |\n",
    "| March     | -1.0             |\n",
    "| April     | 4.0              |\n",
    "| May       | 10.0             |\n",
    "| June      | 15.0             |\n",
    "| July      | 18.0             |\n",
    "| August    | 16.0             |\n",
    "| September | 11.5             |\n",
    "| October   | 6.0              |\n",
    "| November  | 2.0              |\n",
    "| December  | -1.5             |\n",
    "\n",
    "Create a new Jupyter notebook called `Ex-2-problem-2.ipynb` that allows users to select a month and have the monthly average temperature printed to the screen.\n",
    "For example, if the user sets month to \"March\", the script will display\n",
    "\n",
    "```\n",
    "The average temperature in Helsinki in March is -1.0\n",
    "```\n",
    "\n",
    "**Your score on this problem will be based on**\n",
    "\n",
    "- Having your notebook display the monthly average temperature in a selected month, set by defining the variable `selectedMonth` in a cell near the top of the notebook.\n",
    "- Having it work for all 12 months in the year.\n",
    "- Including markdown cells between most or all Python cells to clearly explain how the notebook works in plain English\n",
    "- Pushing your script to your GitHub repository for this week's lesson with the name `Ex-2-problem-2.ipynb`.\n",
    "- Adding a link to this document to your Problem 2 notebook (fix the broken link in the Markdown cell below)\n",
    "- Answers to the three questions below about the challenges you faced in this problem (see [Problem 3](#problem-3) below). **Add these answers in Markdown cells in your new Jupyter notebook in a section titled \"Problem 2 answers\"**.\n",
    "    1. What parts of the code were most difficult to create?\n",
    "    2. What things were you able to take from other resources in this week's lesson?\n",
    "    3. Any other comments about the difficulties in creating your own notebook?"
   ]
  },
  {
   "cell_type": "markdown",
   "metadata": {},
   "source": [
    "### Problem 2 answer section\n",
    "\n",
    "Most of your changes should be in the new notebook you have created, but you can add a link to that notebook in the cell below."
   ]
  },
  {
   "cell_type": "markdown",
   "metadata": {},
   "source": [
    "#### Problem 2 notebook link\n",
    "\n",
    "Here is where you should add your link to [your Jupyter notebook for Problem 2](some-notebook.ipynb)."
   ]
  },
  {
   "cell_type": "markdown",
   "metadata": {},
   "source": [
    "## Problem 3 - More practice using Markdown (*4 points*)\n",
    "\n",
    "The last task in this week's exercise is to answer some questions in this notebook using Markdown.\n",
    "\n",
    "1. Create a new Markdown cell below and add a heading titled \"Problem 3 answer section\". Beneath that create three new Markdown cells to it give your responses to three questions about this week's lesson:\n",
    "\n",
    "    - What did you like?\n",
    "    - What did you dislike?\n",
    "    - What would you change?\n",
    "\n",
    "2. Just for fun, add an image of an animal that you like along with a short caption giving its name and anything special you might like to add.\n",
    "You should add an image by linking to a website with the image, or if by uploading an image to your GitHub repository and linking to that (if you are looking for a challenge).\n",
    "We suggest that you search for images in a repository that includes licencing information such as [Wikimedia Commons](https://commons.wikimedia.org/wiki/Main_Page) or [Pixabay](https://pixabay.com/).\n",
    "You are, of course, also welcome to upload your own animal images.\n",
    "You can add it in a new Markdown cell under those used to answer the questions in part 1 of this problem.\n",
    "\n",
    "**Your score on this problem will be based on**\n",
    "\n",
    "- Your answers to the three questions that are part of this problem\n",
    "- Posting an image of a favorite animal using Markdown"
   ]
  },
  {
   "cell_type": "markdown",
   "metadata": {},
   "source": [
    "**Note**: You may want to read a bit more about [formatting text in Github-flavored Markdown](https://help.github.com/articles/basic-writing-and-formatting-syntax/)."
   ]
  }
 ],
 "metadata": {
  "kernelspec": {
   "display_name": "Python 3",
   "language": "python",
   "name": "python3"
  },
  "language_info": {
   "codemirror_mode": {
    "name": "ipython",
    "version": 3
   },
   "file_extension": ".py",
   "mimetype": "text/x-python",
   "name": "python",
   "nbconvert_exporter": "python",
   "pygments_lexer": "ipython3",
   "version": "3.6.0"
  }
 },
 "nbformat": 4,
 "nbformat_minor": 2
}
